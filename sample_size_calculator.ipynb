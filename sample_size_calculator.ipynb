{
 "cells": [
  {
   "cell_type": "markdown",
   "metadata": {},
   "source": [
    "# A/B testing: sample size calculator \n",
    "__Author: Laura Urbisci__   \n",
    "\n",
    "---\n",
    "## Overview\n",
    "\n",
    "The goal is to automate the sample size needed for an experiment. The end product is a python function where the user can input the baseline conversion rate, minimum detectable effect, statistical power, and significance level to determine the sample size needed per variation of an experiment."
   ]
  },
  {
   "cell_type": "markdown",
   "metadata": {},
   "source": [
    "# Background\n",
    "\n",
    "I'm going to use the equation from this [site](https://towardsdatascience.com/the-math-behind-a-b-testing-with-example-code-part-1-of-2-7be752e1d06f) which is based off of a Standford lecture (i.e., lecture 11). \n",
    "\n",
    "<br>\n",
    "\n",
    "$$n=\\frac{2*\\bar{p}*(1-\\bar{p})*(Z_\\beta + Z_{\\alpha/2})^2}{(p_B - p_A)^2}$$\n",
    "\n",
    "<br>\n",
    "\n",
    "Where $\\bar{p}$ is pooled probability or average of $p_A$ and $p_B$, $p_A$ is success rate of control group, $p_B$ is success rate of test group, $Z_\\beta$ is z-score that corresponds to the level of statistical power, and $Z_{\\alpha/2}$ is the z-score that corresponds to the level of signficance $\\alpha/2$.\n",
    "\n",
    "*Note: $\\bar{p}*(1-\\bar{p})$ is used when the variance ($\\sigma^2$) of the within-pair difference is unknown. This equation comes from the Binomial to Normal approximation. \n",
    "In addition since the level of signficance is $\\alpha/2$, this equation is used for a two-tailed test. For a one tailed test, use $\\alpha$. The two-tailed is the most common form.*"
   ]
  },
  {
   "cell_type": "markdown",
   "metadata": {},
   "source": [
    "# Building the function"
   ]
  },
  {
   "cell_type": "code",
   "execution_count": 42,
   "metadata": {},
   "outputs": [
    {
     "name": "stdout",
     "output_type": "stream",
     "text": [
      "1.959963984540054 0.8416212335729143\n",
      "15.697759468698177\n",
      "105045.0943256618\n"
     ]
    }
   ],
   "source": [
    "from scipy import stats\n",
    "\n",
    "alpha = 0.05\n",
    "beta = 0.8\n",
    "\n",
    "z_alpha2 = stats.norm.ppf(1-(alpha/2)) # z-score corresponds to level of significance alpha/2 (should be 1.96)\n",
    "z_beta = stats.norm.ppf(beta) # z-score corresponds to level of power (should be 0.85)\n",
    "print(z_alpha2, z_beta) # verify\n",
    "\n",
    "# if we used the other terms from before, we can see why Evan had 16 in numerator\n",
    "p = 0.005\n",
    "delta = 0.0009\n",
    "print(2*(z_alpha2 + z_beta)**2) # close to 16\n",
    "\n",
    "bcr = 0.005 # baseline conversion rate\n",
    "mde = 0.0009 # minimum detectable effect\n",
    "\n",
    "# average of pooled probabilites from both groups\n",
    "pooled_p = (bcr + (bcr + mde))/2\n",
    "\n",
    "print( (2*pooled_p*(1-pooled_p)*(z_alpha2 + z_beta)**2)/(mde**2) ) # this equation"
   ]
  },
  {
   "cell_type": "markdown",
   "metadata": {},
   "source": [
    "# Final product\n",
    "\n",
    "A python function that takes the following inputs:\n",
    "- Baseline conversion rate (bcr): \n",
    "- Minimum detectable effect (mde): \n",
    "- Statistical power (power): 80% is default\n",
    "- Significance level (sig_level): 5% is default\n",
    "\n",
    "\n",
    "and calculates the minimum sample size needed per variation for an experiment."
   ]
  },
  {
   "cell_type": "code",
   "execution_count": 4,
   "metadata": {},
   "outputs": [],
   "source": [
    "from scipy import stats\n",
    "\n",
    "def sample_size(bcr, mde, power=0.8, sig_level=0.05):\n",
    "    \"\"\"\n",
    "    Returns the sample size needed per variation for an A/B test\n",
    "    \n",
    "    Inputs:\n",
    "    bcr: baseline conversion rate\n",
    "    mde: minimum detectable effect\n",
    "    power: statistical power, default is 80%\n",
    "    sig_level: significance level, default is 5%\n",
    "    \n",
    "    Output:\n",
    "    n: sample size\n",
    "    \"\"\"\n",
    "    # Z-scores\n",
    "    z_alpha2 = stats.norm.ppf(1-(sig_level/2)) # z-score corresponds to level of significance alpha/2 (should be 1.96)\n",
    "    z_beta = stats.norm.ppf(power) # z-score corresponds to level of power (should be 0.85)\n",
    "    \n",
    "    # average of pooled probabilites from both groups which is used when the variance is unknown\n",
    "    pooled_p = (bcr + (bcr + mde))/2\n",
    "    \n",
    "    n = (2*pooled_p*(1-pooled_p)*(z_alpha2 + z_beta)**2)//(mde**2) # used floor division\n",
    "    \n",
    "    print(\"Minimum sample size needed per variation: {:,}\".format(n)) "
   ]
  },
  {
   "cell_type": "code",
   "execution_count": 5,
   "metadata": {},
   "outputs": [
    {
     "name": "stdout",
     "output_type": "stream",
     "text": [
      "Minimum sample size needed per variation: 105,045.0\n"
     ]
    }
   ],
   "source": [
    "sample_size(bcr=0.005, mde=0.0009)"
   ]
  }
 ],
 "metadata": {
  "kernelspec": {
   "display_name": "Python 3",
   "language": "python",
   "name": "python3"
  },
  "language_info": {
   "codemirror_mode": {
    "name": "ipython",
    "version": 3
   },
   "file_extension": ".py",
   "mimetype": "text/x-python",
   "name": "python",
   "nbconvert_exporter": "python",
   "pygments_lexer": "ipython3",
   "version": "3.6.8"
  }
 },
 "nbformat": 4,
 "nbformat_minor": 2
}
